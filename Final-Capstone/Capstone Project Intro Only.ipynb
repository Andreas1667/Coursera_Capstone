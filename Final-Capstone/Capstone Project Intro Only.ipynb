{
 "cells": [
  {
   "cell_type": "markdown",
   "metadata": {},
   "source": [
    "## Introduction: Business Problem\n",
    "\n",
    "Bourke Street Bakery is a bakery that started in Surry Hills, Sydney, Australia offering hand made goods, catering services as well as baking classes. It has since expanded to eleven locations within the Greater Sydney area. \n",
    "\n",
    "The owners wish to expand their business outside of Sydney to Brisbane, Australia. This purpose of this study is to identify suburbs (i.e. neighbourhoods) in Brisbane that will be suitable for opening the first bakery. \n",
    "\n",
    "The suburbs where bakeries exist in Sydney will be examined and then similar suburbs in Brisbane will be identified as potential opeing locations. The primary criteria will be finding suburbs that have a similar distribution of establishments (e.g. restaurants, cafes, businesses, etc.) to those where bakeries are already established as well as considering the distance from the centre of the CBD (central business district). \n"
   ]
  },
  {
   "cell_type": "code",
   "execution_count": null,
   "metadata": {},
   "outputs": [],
   "source": []
  }
 ],
 "metadata": {
  "kernelspec": {
   "display_name": "Python 3",
   "language": "python",
   "name": "python3"
  },
  "language_info": {
   "codemirror_mode": {
    "name": "ipython",
    "version": 3
   },
   "file_extension": ".py",
   "mimetype": "text/x-python",
   "name": "python",
   "nbconvert_exporter": "python",
   "pygments_lexer": "ipython3",
   "version": "3.7.4"
  }
 },
 "nbformat": 4,
 "nbformat_minor": 2
}
